{
 "cells": [
  {
   "cell_type": "code",
   "execution_count": 1,
   "metadata": {},
   "outputs": [
    {
     "name": "stdout",
     "output_type": "stream",
     "text": [
      "{'__header__': b'MATLAB 5.0 MAT-file, Platform: PCWIN64, Created on: Fri Dec 22 16:32:18 2017', '__version__': '1.0', '__globals__': [], 'tach': array([[8.50752000e-03],\n",
      "       [2.51555200e-02],\n",
      "       [4.18137600e-02],\n",
      "       ...,\n",
      "       [4.06652832e+01],\n",
      "       [4.06818924e+01],\n",
      "       [4.06984978e+01]]), 'vibration': array([[-0.41461882],\n",
      "       [ 0.17249019],\n",
      "       [-0.40377742],\n",
      "       ...,\n",
      "       [ 2.1773119 ],\n",
      "       [-1.48106277],\n",
      "       [-1.70356369]])}\n"
     ]
    }
   ],
   "source": [
    "from scipy.io import loadmat\n",
    "file1 = loadmat('data-20130307T015746Z.mat')\n",
    "print(file1)"
   ]
  },
  {
   "cell_type": "code",
   "execution_count": null,
   "metadata": {},
   "outputs": [],
   "source": [
    "lista = [[element for element in upperElement] for upperElement in file1['tach']]"
   ]
  }
 ],
 "metadata": {
  "kernelspec": {
   "display_name": "Python 3.9.7 ('base')",
   "language": "python",
   "name": "python3"
  },
  "language_info": {
   "codemirror_mode": {
    "name": "ipython",
    "version": 3
   },
   "file_extension": ".py",
   "mimetype": "text/x-python",
   "name": "python",
   "nbconvert_exporter": "python",
   "pygments_lexer": "ipython3",
   "version": "3.9.7"
  },
  "orig_nbformat": 4,
  "vscode": {
   "interpreter": {
    "hash": "62d1c683d51795b0e3c997f839e96bc67852969fa21240c8845950a2ce7af5e5"
   }
  }
 },
 "nbformat": 4,
 "nbformat_minor": 2
}
