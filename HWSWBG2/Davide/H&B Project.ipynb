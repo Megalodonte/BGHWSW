{
 "cells": [
  {
   "cell_type": "code",
   "execution_count": 1,
   "id": "0091f194",
   "metadata": {},
   "outputs": [],
   "source": [
    "#import the packages\n",
    "import pandas as pd\n",
    "import numpy as np\n",
    "import matplotlib.pyplot as plt\n",
    "import pmdarima as pm\n",
    "from pmdarima.arima import auto_arima\n"
   ]
  },
  {
   "cell_type": "code",
   "execution_count": 30,
   "id": "641832f7",
   "metadata": {
    "scrolled": true
   },
   "outputs": [
    {
     "data": {
      "text/html": [
       "<div>\n",
       "<style scoped>\n",
       "    .dataframe tbody tr th:only-of-type {\n",
       "        vertical-align: middle;\n",
       "    }\n",
       "\n",
       "    .dataframe tbody tr th {\n",
       "        vertical-align: top;\n",
       "    }\n",
       "\n",
       "    .dataframe thead th {\n",
       "        text-align: right;\n",
       "    }\n",
       "</style>\n",
       "<table border=\"1\" class=\"dataframe\">\n",
       "  <thead>\n",
       "    <tr style=\"text-align: right;\">\n",
       "      <th></th>\n",
       "      <th>Timestamp</th>\n",
       "      <th>x</th>\n",
       "      <th>y</th>\n",
       "    </tr>\n",
       "  </thead>\n",
       "  <tbody>\n",
       "    <tr>\n",
       "      <th>0</th>\n",
       "      <td>674.9</td>\n",
       "      <td>524.786665</td>\n",
       "      <td>379.791013</td>\n",
       "    </tr>\n",
       "    <tr>\n",
       "      <th>1</th>\n",
       "      <td>675.0</td>\n",
       "      <td>524.944365</td>\n",
       "      <td>379.719013</td>\n",
       "    </tr>\n",
       "    <tr>\n",
       "      <th>2</th>\n",
       "      <td>675.1</td>\n",
       "      <td>525.086665</td>\n",
       "      <td>379.644013</td>\n",
       "    </tr>\n",
       "    <tr>\n",
       "      <th>3</th>\n",
       "      <td>675.2</td>\n",
       "      <td>525.228965</td>\n",
       "      <td>379.569013</td>\n",
       "    </tr>\n",
       "    <tr>\n",
       "      <th>4</th>\n",
       "      <td>675.3</td>\n",
       "      <td>525.371165</td>\n",
       "      <td>379.494013</td>\n",
       "    </tr>\n",
       "    <tr>\n",
       "      <th>...</th>\n",
       "      <td>...</td>\n",
       "      <td>...</td>\n",
       "      <td>...</td>\n",
       "    </tr>\n",
       "    <tr>\n",
       "      <th>193</th>\n",
       "      <td>694.2</td>\n",
       "      <td>542.438765</td>\n",
       "      <td>361.328013</td>\n",
       "    </tr>\n",
       "    <tr>\n",
       "      <th>194</th>\n",
       "      <td>694.3</td>\n",
       "      <td>542.531565</td>\n",
       "      <td>361.317013</td>\n",
       "    </tr>\n",
       "    <tr>\n",
       "      <th>195</th>\n",
       "      <td>694.4</td>\n",
       "      <td>542.631565</td>\n",
       "      <td>361.310013</td>\n",
       "    </tr>\n",
       "    <tr>\n",
       "      <th>196</th>\n",
       "      <td>694.5</td>\n",
       "      <td>542.738265</td>\n",
       "      <td>361.303013</td>\n",
       "    </tr>\n",
       "    <tr>\n",
       "      <th>197</th>\n",
       "      <td>694.6</td>\n",
       "      <td>542.835965</td>\n",
       "      <td>361.301013</td>\n",
       "    </tr>\n",
       "  </tbody>\n",
       "</table>\n",
       "<p>198 rows × 3 columns</p>\n",
       "</div>"
      ],
      "text/plain": [
       "     Timestamp           x           y\n",
       "0        674.9  524.786665  379.791013\n",
       "1        675.0  524.944365  379.719013\n",
       "2        675.1  525.086665  379.644013\n",
       "3        675.2  525.228965  379.569013\n",
       "4        675.3  525.371165  379.494013\n",
       "..         ...         ...         ...\n",
       "193      694.2  542.438765  361.328013\n",
       "194      694.3  542.531565  361.317013\n",
       "195      694.4  542.631565  361.310013\n",
       "196      694.5  542.738265  361.303013\n",
       "197      694.6  542.835965  361.301013\n",
       "\n",
       "[198 rows x 3 columns]"
      ]
     },
     "execution_count": 30,
     "metadata": {},
     "output_type": "execute_result"
    }
   ],
   "source": [
    "#reading and visualizing the dataset\n",
    "df = pd.read_csv(\"tracks.csv\", header=0)\n",
    "df"
   ]
  },
  {
   "cell_type": "code",
   "execution_count": 3,
   "id": "d349c8d8",
   "metadata": {},
   "outputs": [
    {
     "data": {
      "text/html": [
       "<div>\n",
       "<style scoped>\n",
       "    .dataframe tbody tr th:only-of-type {\n",
       "        vertical-align: middle;\n",
       "    }\n",
       "\n",
       "    .dataframe tbody tr th {\n",
       "        vertical-align: top;\n",
       "    }\n",
       "\n",
       "    .dataframe thead th {\n",
       "        text-align: right;\n",
       "    }\n",
       "</style>\n",
       "<table border=\"1\" class=\"dataframe\">\n",
       "  <thead>\n",
       "    <tr style=\"text-align: right;\">\n",
       "      <th></th>\n",
       "      <th>x</th>\n",
       "      <th>y</th>\n",
       "    </tr>\n",
       "    <tr>\n",
       "      <th>Timestamp</th>\n",
       "      <th></th>\n",
       "      <th></th>\n",
       "    </tr>\n",
       "  </thead>\n",
       "  <tbody>\n",
       "    <tr>\n",
       "      <th>674.9</th>\n",
       "      <td>524.786665</td>\n",
       "      <td>379.791013</td>\n",
       "    </tr>\n",
       "    <tr>\n",
       "      <th>675.0</th>\n",
       "      <td>524.944365</td>\n",
       "      <td>379.719013</td>\n",
       "    </tr>\n",
       "    <tr>\n",
       "      <th>675.1</th>\n",
       "      <td>525.086665</td>\n",
       "      <td>379.644013</td>\n",
       "    </tr>\n",
       "    <tr>\n",
       "      <th>675.2</th>\n",
       "      <td>525.228965</td>\n",
       "      <td>379.569013</td>\n",
       "    </tr>\n",
       "    <tr>\n",
       "      <th>675.3</th>\n",
       "      <td>525.371165</td>\n",
       "      <td>379.494013</td>\n",
       "    </tr>\n",
       "    <tr>\n",
       "      <th>...</th>\n",
       "      <td>...</td>\n",
       "      <td>...</td>\n",
       "    </tr>\n",
       "    <tr>\n",
       "      <th>694.2</th>\n",
       "      <td>542.438765</td>\n",
       "      <td>361.328013</td>\n",
       "    </tr>\n",
       "    <tr>\n",
       "      <th>694.3</th>\n",
       "      <td>542.531565</td>\n",
       "      <td>361.317013</td>\n",
       "    </tr>\n",
       "    <tr>\n",
       "      <th>694.4</th>\n",
       "      <td>542.631565</td>\n",
       "      <td>361.310013</td>\n",
       "    </tr>\n",
       "    <tr>\n",
       "      <th>694.5</th>\n",
       "      <td>542.738265</td>\n",
       "      <td>361.303013</td>\n",
       "    </tr>\n",
       "    <tr>\n",
       "      <th>694.6</th>\n",
       "      <td>542.835965</td>\n",
       "      <td>361.301013</td>\n",
       "    </tr>\n",
       "  </tbody>\n",
       "</table>\n",
       "<p>198 rows × 2 columns</p>\n",
       "</div>"
      ],
      "text/plain": [
       "                    x           y\n",
       "Timestamp                        \n",
       "674.9      524.786665  379.791013\n",
       "675.0      524.944365  379.719013\n",
       "675.1      525.086665  379.644013\n",
       "675.2      525.228965  379.569013\n",
       "675.3      525.371165  379.494013\n",
       "...               ...         ...\n",
       "694.2      542.438765  361.328013\n",
       "694.3      542.531565  361.317013\n",
       "694.4      542.631565  361.310013\n",
       "694.5      542.738265  361.303013\n",
       "694.6      542.835965  361.301013\n",
       "\n",
       "[198 rows x 2 columns]"
      ]
     },
     "execution_count": 3,
     "metadata": {},
     "output_type": "execute_result"
    }
   ],
   "source": [
    "df = df.set_index('Timestamp')\n",
    "df"
   ]
  },
  {
   "cell_type": "code",
   "execution_count": 31,
   "id": "5102414f",
   "metadata": {},
   "outputs": [
    {
     "name": "stdout",
     "output_type": "stream",
     "text": [
      "              x\n",
      "0    524.786665\n",
      "1    524.944365\n",
      "2    525.086665\n",
      "3    525.228965\n",
      "4    525.371165\n",
      "..          ...\n",
      "193  542.438765\n",
      "194  542.531565\n",
      "195  542.631565\n",
      "196  542.738265\n",
      "197  542.835965\n",
      "\n",
      "[198 rows x 1 columns]\n",
      "              y\n",
      "0    379.791013\n",
      "1    379.719013\n",
      "2    379.644013\n",
      "3    379.569013\n",
      "4    379.494013\n",
      "..          ...\n",
      "193  361.328013\n",
      "194  361.317013\n",
      "195  361.310013\n",
      "196  361.303013\n",
      "197  361.301013\n",
      "\n",
      "[198 rows x 1 columns]\n"
     ]
    }
   ],
   "source": [
    "#splitting the dataset df into df1 and df2 for forecasting on x and y separately\n",
    "df1 = pd.DataFrame(data=df['x'])\n",
    "df2 = pd.DataFrame(data=df['y'])\n",
    "print(df1)\n",
    "print(df2)"
   ]
  },
  {
   "cell_type": "code",
   "execution_count": 32,
   "id": "1045d1bc",
   "metadata": {},
   "outputs": [
    {
     "data": {
      "image/png": "[encoded data removed]",
      "text/plain": [
       "<Figure size 432x288 with 1 Axes>"
      ]
     },
     "metadata": {
      "needs_background": "light"
     },
     "output_type": "display_data"
    },
    {
     "data": {
      "image/png": "[encoded data removed]",
      "text/plain": [
       "<Figure size 432x288 with 1 Axes>"
      ]
     },
     "metadata": {
      "needs_background": "light"
     },
     "output_type": "display_data"
    }
   ],
   "source": [
    "#plotting x and y versus time\n",
    "df1.plot()\n",
    "df2.plot()\n",
    "\n",
    "plt.show()"
   ]
  },
  {
   "cell_type": "code",
   "execution_count": 33,
   "id": "3b2f8c6b",
   "metadata": {},
   "outputs": [
    {
     "name": "stdout",
     "output_type": "stream",
     "text": [
      "(0.47943632264774805, True)\n",
      "(0.9840307886081358, True)\n"
     ]
    }
   ],
   "source": [
    "#importing ADFTest for executing Augmented Dickey Fuller test for stationarity\n",
    "from pmdarima.arima import ADFTest\n",
    "adf_test1 = ADFTest(alpha = 0.05)\n",
    "adf_test1.should_diff(df1)\n",
    "print(adf_test1.should_diff(df1))\n",
    "adf_test2 = ADFTest(alpha = 0.05)\n",
    "print(adf_test2.should_diff(df2))"
   ]
  },
  {
   "cell_type": "code",
   "execution_count": 34,
   "id": "1c4a7671",
   "metadata": {},
   "outputs": [
    {
     "data": {
      "text/plain": [
       "[<matplotlib.lines.Line2D at 0x17739a0f430>]"
      ]
     },
     "execution_count": 34,
     "metadata": {},
     "output_type": "execute_result"
    },
    {
     "data": {
      "image/png": "[encoded data removed]",
      "text/plain": [
       "<Figure size 432x288 with 2 Axes>"
      ]
     },
     "metadata": {
      "needs_background": "light"
     },
     "output_type": "display_data"
    }
   ],
   "source": [
    "#splitting df1 and df2 into training and testing sets and plotting\n",
    "\n",
    "train_x = df1[:170]\n",
    "test_x = df1[-28:]\n",
    "train_y = df2[:170]\n",
    "test_y = df2[-28:]\n",
    "\n",
    "f, (ax,ay) = plt.subplots(nrows=2, ncols=1, sharey=False)\n",
    "ax.plot(train_x)\n",
    "ax.plot(test_x)\n",
    "ay.plot(train_y)\n",
    "ay.plot(test_y)\n"
   ]
  },
  {
   "cell_type": "code",
   "execution_count": 21,
   "id": "5bb0f9b7",
   "metadata": {},
   "outputs": [],
   "source": [
    "train_x_diff = train_x.diff()\n",
    "train_x_diff.dropna(inplace = True)\n",
    "train_y_diff = train_y.diff()\n",
    "train_y_diff.dropna(inplace = True)\n"
   ]
  },
  {
   "cell_type": "code",
   "execution_count": 35,
   "id": "dbdab10d",
   "metadata": {},
   "outputs": [],
   "source": [
    "train_x_diff = train_x\n",
    "train_y_diff = train_y"
   ]
  },
  {
   "cell_type": "code",
   "execution_count": 36,
   "id": "a31c652f",
   "metadata": {},
   "outputs": [
    {
     "data": {
      "image/png": "[encoded data removed]",
      "text/plain": [
       "<Figure size 432x288 with 1 Axes>"
      ]
     },
     "metadata": {
      "needs_background": "light"
     },
     "output_type": "display_data"
    },
    {
     "data": {
      "image/png": "[encoded data removed]",
      "text/plain": [
       "<Figure size 432x288 with 1 Axes>"
      ]
     },
     "metadata": {
      "needs_background": "light"
     },
     "output_type": "display_data"
    }
   ],
   "source": [
    "train_x_diff.plot()\n",
    "train_y_diff.plot()\n",
    "plt.show()\n"
   ]
  },
  {
   "cell_type": "code",
   "execution_count": 37,
   "id": "216dfb21",
   "metadata": {},
   "outputs": [
    {
     "name": "stdout",
     "output_type": "stream",
     "text": [
      "(0.4379513156490543, True)\n",
      "(0.9341943471458665, True)\n"
     ]
    }
   ],
   "source": [
    "adf_test = ADFTest(alpha = 0.05)\n",
    "print(adf_test.should_diff(train_x_diff))\n",
    "print(adf_test.should_diff(train_y_diff))"
   ]
  },
  {
   "cell_type": "code",
   "execution_count": 38,
   "id": "8854c2e3",
   "metadata": {},
   "outputs": [
    {
     "name": "stdout",
     "output_type": "stream",
     "text": [
      "Performing stepwise search to minimize aic\n",
      " ARIMA(2,2,2)(0,0,0)[0] intercept   : AIC=-782.979, Time=0.09 sec\n",
      " ARIMA(0,2,0)(0,0,0)[0] intercept   : AIC=-789.693, Time=0.02 sec\n",
      " ARIMA(1,2,0)(0,0,0)[0] intercept   : AIC=-792.120, Time=0.03 sec\n",
      " ARIMA(0,2,1)(0,0,0)[0] intercept   : AIC=-793.658, Time=0.08 sec\n",
      " ARIMA(0,2,0)(0,0,0)[0]             : AIC=-791.662, Time=0.03 sec\n",
      " ARIMA(1,2,1)(0,0,0)[0] intercept   : AIC=-800.810, Time=0.14 sec\n",
      " ARIMA(2,2,1)(0,0,0)[0] intercept   : AIC=-802.038, Time=0.22 sec\n",
      " ARIMA(2,2,0)(0,0,0)[0] intercept   : AIC=-792.002, Time=0.03 sec\n",
      " ARIMA(3,2,1)(0,0,0)[0] intercept   : AIC=-802.342, Time=0.24 sec\n",
      " ARIMA(3,2,0)(0,0,0)[0] intercept   : AIC=-793.823, Time=0.03 sec\n",
      " ARIMA(4,2,1)(0,0,0)[0] intercept   : AIC=-802.127, Time=0.29 sec\n",
      " ARIMA(3,2,2)(0,0,0)[0] intercept   : AIC=-801.577, Time=0.25 sec\n",
      " ARIMA(4,2,0)(0,0,0)[0] intercept   : AIC=-800.071, Time=0.12 sec\n",
      " ARIMA(4,2,2)(0,0,0)[0] intercept   : AIC=-799.889, Time=0.34 sec\n",
      " ARIMA(3,2,1)(0,0,0)[0]             : AIC=-804.289, Time=0.17 sec\n",
      " ARIMA(2,2,1)(0,0,0)[0]             : AIC=-803.907, Time=0.14 sec\n",
      " ARIMA(3,2,0)(0,0,0)[0]             : AIC=-795.774, Time=0.07 sec\n",
      " ARIMA(4,2,1)(0,0,0)[0]             : AIC=-804.112, Time=0.21 sec\n",
      " ARIMA(3,2,2)(0,0,0)[0]             : AIC=-803.681, Time=0.19 sec\n",
      " ARIMA(2,2,0)(0,0,0)[0]             : AIC=-793.952, Time=0.03 sec\n",
      " ARIMA(2,2,2)(0,0,0)[0]             : AIC=-805.513, Time=0.20 sec\n",
      " ARIMA(1,2,2)(0,0,0)[0]             : AIC=-803.736, Time=0.13 sec\n",
      " ARIMA(2,2,3)(0,0,0)[0]             : AIC=-800.221, Time=0.16 sec\n",
      " ARIMA(1,2,1)(0,0,0)[0]             : AIC=-805.360, Time=0.08 sec\n",
      " ARIMA(1,2,3)(0,0,0)[0]             : AIC=-802.886, Time=0.16 sec\n",
      " ARIMA(3,2,3)(0,0,0)[0]             : AIC=-805.876, Time=0.22 sec\n",
      " ARIMA(4,2,3)(0,0,0)[0]             : AIC=-809.647, Time=0.33 sec\n",
      " ARIMA(4,2,2)(0,0,0)[0]             : AIC=-801.770, Time=0.16 sec\n",
      " ARIMA(5,2,3)(0,0,0)[0]             : AIC=-801.190, Time=0.28 sec\n",
      " ARIMA(4,2,4)(0,0,0)[0]             : AIC=-805.860, Time=0.30 sec\n",
      " ARIMA(3,2,4)(0,0,0)[0]             : AIC=-807.545, Time=0.29 sec\n",
      " ARIMA(5,2,2)(0,0,0)[0]             : AIC=-801.993, Time=0.28 sec\n",
      " ARIMA(5,2,4)(0,0,0)[0]             : AIC=-808.183, Time=0.35 sec\n",
      " ARIMA(4,2,3)(0,0,0)[0] intercept   : AIC=-807.719, Time=0.36 sec\n",
      "\n",
      "Best model:  ARIMA(4,2,3)(0,0,0)[0]          \n",
      "Total fit time: 6.038 seconds\n"
     ]
    }
   ],
   "source": [
    "#calling auto arima for x\n",
    "arima_model_x = auto_arima(train_x,\n",
    "                           seasonal=False,\n",
    "                           trace=True,\n",
    "                           test='adf',\n",
    "                           stepwise=True)"
   ]
  },
  {
   "cell_type": "code",
   "execution_count": 39,
   "id": "f62aedab",
   "metadata": {},
   "outputs": [
    {
     "name": "stdout",
     "output_type": "stream",
     "text": [
      "Performing stepwise search to minimize aic\n",
      " ARIMA(2,2,2)(0,0,0)[0] intercept   : AIC=-854.820, Time=0.23 sec\n",
      " ARIMA(0,2,0)(0,0,0)[0] intercept   : AIC=-818.402, Time=0.02 sec\n",
      " ARIMA(1,2,0)(0,0,0)[0] intercept   : AIC=-818.512, Time=0.03 sec\n",
      " ARIMA(0,2,1)(0,0,0)[0] intercept   : AIC=-822.578, Time=0.07 sec\n",
      " ARIMA(0,2,0)(0,0,0)[0]             : AIC=-820.384, Time=0.02 sec\n",
      " ARIMA(1,2,2)(0,0,0)[0] intercept   : AIC=-847.783, Time=0.11 sec\n",
      " ARIMA(2,2,1)(0,0,0)[0] intercept   : AIC=-856.757, Time=0.18 sec\n",
      " ARIMA(1,2,1)(0,0,0)[0] intercept   : AIC=-827.012, Time=0.23 sec\n",
      " ARIMA(2,2,0)(0,0,0)[0] intercept   : AIC=-849.316, Time=0.06 sec\n",
      " ARIMA(3,2,1)(0,0,0)[0] intercept   : AIC=-855.020, Time=0.10 sec\n",
      " ARIMA(3,2,0)(0,0,0)[0] intercept   : AIC=-857.023, Time=0.07 sec\n",
      " ARIMA(4,2,0)(0,0,0)[0] intercept   : AIC=-855.028, Time=0.05 sec\n",
      " ARIMA(4,2,1)(0,0,0)[0] intercept   : AIC=-853.027, Time=0.06 sec\n",
      " ARIMA(3,2,0)(0,0,0)[0]             : AIC=-858.963, Time=0.05 sec\n",
      " ARIMA(2,2,0)(0,0,0)[0]             : AIC=-851.279, Time=0.02 sec\n",
      " ARIMA(4,2,0)(0,0,0)[0]             : AIC=-856.967, Time=0.04 sec\n",
      " ARIMA(3,2,1)(0,0,0)[0]             : AIC=-856.959, Time=0.06 sec\n",
      " ARIMA(2,2,1)(0,0,0)[0]             : AIC=-858.794, Time=0.11 sec\n",
      " ARIMA(4,2,1)(0,0,0)[0]             : AIC=-854.975, Time=0.09 sec\n",
      "\n",
      "Best model:  ARIMA(3,2,0)(0,0,0)[0]          \n",
      "Total fit time: 1.587 seconds\n"
     ]
    }
   ],
   "source": [
    "#calling auto arima for y\n",
    "arima_model_y = auto_arima(train_y,\n",
    "                           seasonal=False,\n",
    "                           trace=True,\n",
    "                           test='adf',\n",
    "                           stepwise=True)"
   ]
  },
  {
   "cell_type": "code",
   "execution_count": 40,
   "id": "67658fb2",
   "metadata": {},
   "outputs": [
    {
     "name": "stdout",
     "output_type": "stream",
     "text": [
      "     predicted_x\n",
      "170   539.871131\n",
      "171   539.980608\n",
      "172   540.094338\n",
      "173   540.205973\n",
      "174   540.317202\n",
      "175   540.430412\n",
      "176   540.541948\n",
      "177   540.652903\n",
      "178   540.765664\n",
      "179   540.877473\n",
      "180   540.988549\n",
      "181   541.101031\n",
      "182   541.213004\n",
      "183   541.324199\n",
      "184   541.436448\n",
      "185   541.548505\n",
      "186   541.659827\n",
      "187   541.771903\n",
      "188   541.883992\n",
      "189   541.995434\n",
      "190   542.107386\n",
      "191   542.219473\n",
      "192   542.331022\n",
      "193   542.442889\n",
      "194   542.554955\n",
      "195   542.666592\n",
      "196   542.778407\n",
      "197   542.890440\n",
      "     predicted_y\n",
      "170   361.904404\n",
      "171   361.867857\n",
      "172   361.832708\n",
      "173   361.797617\n",
      "174   361.761736\n",
      "175   361.725453\n",
      "176   361.689437\n",
      "177   361.653780\n",
      "178   361.618137\n",
      "179   361.582294\n",
      "180   361.546347\n",
      "181   361.510468\n",
      "182   361.474681\n",
      "183   361.438897\n",
      "184   361.403062\n",
      "185   361.367201\n",
      "186   361.331357\n",
      "187   361.295537\n",
      "188   361.259718\n",
      "189   361.223885\n",
      "190   361.188046\n",
      "191   361.152211\n",
      "192   361.116382\n",
      "193   361.080554\n",
      "194   361.044722\n",
      "195   361.008888\n",
      "196   360.973056\n",
      "197   360.937225\n"
     ]
    }
   ],
   "source": [
    "#formatting obtained predictions into dataframe\n",
    "prediction_x = pd.DataFrame(arima_model_x.predict(n_periods=28),index=test_x.index)\n",
    "prediction_x.columns = ['predicted_x']\n",
    "print(prediction_x)\n",
    "prediction_y = pd.DataFrame(arima_model_y.predict(n_periods=28),index=test_y.index)\n",
    "prediction_y.columns = ['predicted_y']\n",
    "print(prediction_y)"
   ]
  },
  {
   "cell_type": "code",
   "execution_count": 41,
   "id": "125b1252",
   "metadata": {},
   "outputs": [
    {
     "data": {
      "text/plain": [
       "<matplotlib.legend.Legend at 0x1773c93caf0>"
      ]
     },
     "execution_count": 41,
     "metadata": {},
     "output_type": "execute_result"
    },
    {
     "data": {
      "image/png": "[encoded data removed]",
      "text/plain": [
       "<Figure size 432x288 with 2 Axes>"
      ]
     },
     "metadata": {
      "needs_background": "light"
     },
     "output_type": "display_data"
    }
   ],
   "source": [
    "#plotting test set and prediction for a visual comparison\n",
    "f, (ax,ay) = plt.subplots(nrows=2, ncols=1, sharey=False)\n",
    "\n",
    "ax.plot(train_x, label='Training')\n",
    "ax.plot(test_x, label='Test')\n",
    "ax.plot(prediction_x, label='Prediction')\n",
    "ax.legend(loc ='upper left')\n",
    "ay.plot(train_y, label='Training')\n",
    "ay.plot(test_y, label='Test')\n",
    "ay.plot(prediction_y, label='Prediction')\n",
    "ay.legend(loc ='upper left')"
   ]
  },
  {
   "cell_type": "code",
   "execution_count": 37,
   "id": "fe8894ff",
   "metadata": {},
   "outputs": [],
   "source": [
    "#arima_model_x.summary()"
   ]
  },
  {
   "cell_type": "code",
   "execution_count": 38,
   "id": "f9e617c0",
   "metadata": {},
   "outputs": [],
   "source": [
    "#arima_model_y.summary()"
   ]
  },
  {
   "cell_type": "code",
   "execution_count": 42,
   "id": "23ee0342",
   "metadata": {},
   "outputs": [
    {
     "name": "stdout",
     "output_type": "stream",
     "text": [
      "Coefficient of determination for x is : 0.2895087054891716\n",
      "Coefficient of determination for y is : 0.9981477010932065\n",
      "MAPE for x is : 6.24287046967676e-05\n",
      "MAPE for y is : 0.00038898975888219603\n"
     ]
    }
   ],
   "source": [
    "#evaluating our forecast computing the coefficient of determination r2 and the mean absolute percentage error\n",
    "from sklearn.metrics import r2_score\n",
    "from sklearn.metrics import mean_absolute_percentage_error\n",
    "\n",
    "print(\"Coefficient of determination for x is : \" + str(r2_score(test_y['y'], prediction_y)))\n",
    "print(\"Coefficient of determination for y is : \" + str(r2_score(test_x['x'], prediction_x)))\n",
    "\n",
    "print(\"MAPE for x is : \" + str(mean_absolute_percentage_error(test_x['x'], prediction_x)))\n",
    "print(\"MAPE for y is : \" + str(mean_absolute_percentage_error(test_y['y'], prediction_y)))\n"
   ]
  },
  {
   "cell_type": "code",
   "execution_count": null,
   "id": "79ebe888",
   "metadata": {},
   "outputs": [],
   "source": []
  },
  {
   "cell_type": "code",
   "execution_count": null,
   "id": "91b72299",
   "metadata": {},
   "outputs": [],
   "source": []
  }
 ],
 "metadata": {
  "interpreter": {
   "hash": "62d1c683d51795b0e3c997f839e96bc67852969fa21240c8845950a2ce7af5e5"
  },
  "kernelspec": {
   "display_name": "Python 3.9.7 ('base')",
   "language": "python",
   "name": "python3"
  },
  "language_info": {
   "codemirror_mode": {
    "name": "ipython",
    "version": 3
   },
   "file_extension": ".py",
   "mimetype": "text/x-python",
   "name": "python",
   "nbconvert_exporter": "python",
   "pygments_lexer": "ipython3",
   "version": "3.9.7"
  }
 },
 "nbformat": 4,
 "nbformat_minor": 5
}
