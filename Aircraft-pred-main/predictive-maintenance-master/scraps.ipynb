{
 "cells": [
  {
   "cell_type": "code",
   "execution_count": null,
   "metadata": {},
   "outputs": [],
   "source": [
    "# create regression and classification label for the dataset\n",
    "def prepare_dataset (df_in, period, df_truth_in = None, test_bool = bool):\n",
    "    \n",
    "    if not test_bool:    \n",
    "        \n",
    "        # make a dataframe to hold the last cycle for each engine in the dataset\n",
    "        df_last_cycle = pd.DataFrame(df_in.groupby('id')['cycle'].max())\n",
    "        df_last_cycle.reset_index(level=0, inplace=True)\n",
    "        df_last_cycle.columns = ['id', 'last_cycle']\n",
    "\n",
    "        # add time-to-failure ttf as a new column - regression label\n",
    "        df_in = pd.merge(df_in, df_last_cycle, on='id')\n",
    "        df_in['ttf'] = df_in['last_cycle'] - df_in['cycle']\n",
    "        df_in.drop(['last_cycle'], axis=1, inplace=True)\n",
    "    \n",
    "        # create binary classification label\n",
    "        df_in['label_bnc'] = df_in['ttf'].apply(lambda x: 1 if x <= period else 0)\n",
    "    \n",
    "        return df_in\n",
    "    \n",
    "    else:\n",
    "        df_last_cycle = pd.DataFrame(df_in.groupby('id')['cycle'].max())\n",
    "        df_last_cycle.reset_index(level=0, inplace=True)\n",
    "        df_last_cycle.columns = ['id', 'last_cycle']\n",
    "        df_truth_in[\"id\"] = [i for i in range(1,101)]\n",
    "        df_last_cycle = pd.merge(df_last_cycle, df_truth_in, on='id')\n",
    "        df_last_cycle[\"last_cycle\"] = df_last_cycle[\"last_cycle\"] + df_last_cycle[\"ttf\"]\n",
    "        df_last_cycle.drop(['ttf'], axis=1, inplace=True)\n",
    "        df_last_cycle.reset_index(drop=True, inplace=True)\n",
    "        \n",
    "        df_in = pd.merge(df_in, df_last_cycle, on='id')\n",
    "        df_in['ttf'] = df_in['last_cycle'] - df_in['cycle']\n",
    "        df_in.drop(['last_cycle'], axis=1, inplace=True)\n",
    "\n",
    "        # create binary classification label\n",
    "        df_in['label_bnc'] = df_in['ttf'].apply(lambda x: 1 if x <= period else 0)\n",
    "\n",
    "        return df_in"
   ]
  }
 ],
 "metadata": {
  "language_info": {
   "name": "python"
  },
  "orig_nbformat": 4
 },
 "nbformat": 4,
 "nbformat_minor": 2
}
