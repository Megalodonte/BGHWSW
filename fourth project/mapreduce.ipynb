{
 "cells": [
  {
   "cell_type": "code",
   "execution_count": 1,
   "metadata": {},
   "outputs": [],
   "source": [
    "import mrjob\n",
    "import pandas as pd"
   ]
  },
  {
   "cell_type": "code",
   "execution_count": null,
   "metadata": {},
   "outputs": [],
   "source": [
    "from mrjob.step import MRStep\n",
    "from mrjob.job import MRJob\n",
    "\n",
    "class GenderCount(MRJob):\n",
    "  def steps(self):\n",
    "      return [\n",
    "          MRStep(mapper=self.mapper1,\n",
    "                  reducer=self.reducer1),\n",
    "          MRStep(mapper = self.mapper2,\n",
    "                  reducer=self.reducer2)\n",
    "      ]\n",
    "  def mapper1(self, _, row):\n",
    "    yield ((row['gender'], row['start_station_name']), 1)\n",
    "\n",
    "  def reducer1(self, gender_station, count):\n",
    "    yield (gender_station, sum(count))\n",
    "\n",
    "  def mapper2(self, gender_station, count):\n",
    "    gender, station  = gender_station\n",
    "    yield (gender, (station, count))\n",
    "\n",
    "  def reducer2(self, gender, station_count):\n",
    "    genderMap = {'0':'Unknown', '1':'Male', '2':'Female'}\n",
    "    yield (genderMap[gender], max(station_count, key = lambda x : x[1]))\n",
    "\n",
    "\n",
    "task1 = GenderCount(args = [])\n",
    "with open('citibike.csv', 'r') as fi:\n",
    "  output = list(mr.runJob(enumerate(csv.DictReader(fi)), task1))"
   ]
  }
 ],
 "metadata": {
  "kernelspec": {
   "display_name": "Python 3.10.2 64-bit",
   "language": "python",
   "name": "python3"
  },
  "language_info": {
   "codemirror_mode": {
    "name": "ipython",
    "version": 3
   },
   "file_extension": ".py",
   "mimetype": "text/x-python",
   "name": "python",
   "nbconvert_exporter": "python",
   "pygments_lexer": "ipython3",
   "version": "3.10.2"
  },
  "orig_nbformat": 4,
  "vscode": {
   "interpreter": {
    "hash": "0f2f6c680cf484319d387fabac80ca4ff4fc33965036e02100b3fe02600f1423"
   }
  }
 },
 "nbformat": 4,
 "nbformat_minor": 2
}
